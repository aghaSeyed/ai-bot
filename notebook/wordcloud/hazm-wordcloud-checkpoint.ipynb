{
 "cells": [
  {
   "cell_type": "raw",
   "metadata": {},
   "source": [
    "\n"
   ]
  },
  {
   "cell_type": "code",
   "execution_count": null,
   "metadata": {},
   "outputs": [],
   "source": [
    "# chunk 100 line of csv file\n",
    "\n",
    "import csv , json\n",
    "\n",
    "with open('C:\\\\Users\\\\mahdi\\\\Documents\\\\ai bot\\\\twitter_sample_tweets.csv' , 'r' , encoding='utf-8') as csvfile:\n",
    "    reader = csv.DictReader(csvfile)\n",
    "    for i ,row in enumerate(reader):\n",
    "        with open('C:\\\\Users\\\\mahdi\\\\Documents\\\\ai bot\\\\twitter-100.txt','a') as wf:\n",
    "            wf.write(json.dumps(row))\n",
    "            wf.write(\"\\r\")\n",
    "        if(i>=99):\n",
    "            break"
   ]
  },
  {
   "cell_type": "code",
   "execution_count": 4,
   "metadata": {},
   "outputs": [],
   "source": [
    "from __future__ import unicode_literals\n",
    "from hazm import *\n",
    "from wordcloud_fa import WordCloudFa\n",
    "from nltk.corpus import stopwords\n",
    "import json\n",
    "normalaizer = Normalizer()\n",
    "lemmatizer = Lemmatizer()\n",
    "with open('twitter-100.txt' , 'r' , encoding='utf-8') as f:\n",
    "    text = f.readlines()\n",
    "    \n",
    "with open('chars' , 'r' , encoding='utf-8') as f:\n",
    "    stops = f.readlines()\n",
    "input_text = \"\"\n",
    "for item in text:\n",
    "    input_text = input_text + \" \" + str(json.loads(item))\n",
    "input_text = normalaizer.normalize(input_text)\n",
    "# stop_words = set(['۰' , '۱' , '۲' , '۴' , '۳' , '۵' , '۶' , '۷' , '۸' , '۹' , \"۲۰۱۹\" , \"RT\" , ':' , 'برای']) // manual\n",
    "# stop_words = set(stopwords.words(\"english\")) // eng\n",
    "wordcloud = WordCloudFa()\n",
    "wordcloud.add_stop_words(stops)\n",
    "wc = wordcloud.generate(input_text)\n",
    "image = wc.to_image()\n",
    "image.show()\n",
    "# stopwords didnt work"
   ]
  },
  {
   "cell_type": "code",
   "execution_count": null,
   "metadata": {},
   "outputs": [],
   "source": []
  },
  {
   "cell_type": "code",
   "execution_count": null,
   "metadata": {},
   "outputs": [],
   "source": []
  }
 ],
 "metadata": {
  "kernelspec": {
   "display_name": "Python 3",
   "language": "python",
   "name": "python3"
  },
  "language_info": {
   "codemirror_mode": {
    "name": "ipython",
    "version": 3
   },
   "file_extension": ".py",
   "mimetype": "text/x-python",
   "name": "python",
   "nbconvert_exporter": "python",
   "pygments_lexer": "ipython3",
   "version": "3.8.2"
  }
 },
 "nbformat": 4,
 "nbformat_minor": 4
}
